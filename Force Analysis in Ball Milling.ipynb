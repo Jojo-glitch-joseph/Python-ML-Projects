{
  "nbformat": 4,
  "nbformat_minor": 0,
  "metadata": {
    "colab": {
      "provenance": [],
      "authorship_tag": "ABX9TyPvNnsDpg6mDjzJuw1efvSv",
      "include_colab_link": true
    },
    "kernelspec": {
      "name": "python3",
      "display_name": "Python 3"
    },
    "language_info": {
      "name": "python"
    }
  },
  "cells": [
    {
      "cell_type": "markdown",
      "metadata": {
        "id": "view-in-github",
        "colab_type": "text"
      },
      "source": [
        "<a href=\"https://colab.research.google.com/github/Jojojoseph-2403/Python-ML-Projects/blob/main/Force%20Analysis%20in%20Ball%20Milling.ipynb\" target=\"_parent\"><img src=\"https://colab.research.google.com/assets/colab-badge.svg\" alt=\"Open In Colab\"/></a>"
      ]
    },
    {
      "cell_type": "code",
      "execution_count": 35,
      "metadata": {
        "id": "VL8uxRNxH5HP"
      },
      "outputs": [],
      "source": [
        "import numpy as np\n",
        "import matplotlib.pyplot as plt\n",
        "import math"
      ]
    },
    {
      "cell_type": "code",
      "source": [
        "class BallMillingForceAnalysis:\n",
        "    def __init__(self, jar_radius, ball_radius, rotation_speed):\n",
        "        self.jar_radius = jar_radius  # Radius of the milling jar (m)\n",
        "        self.ball_radius = ball_radius  # Radius of the milling balls (m)\n",
        "        self.rotation_speed = rotation_speed  # Rotation speed of the jar (rad/s)\n",
        "        self.gravity = 9.81  # Acceleration due to gravity (m/s^2)"
      ],
      "metadata": {
        "id": "IvcvPLz-IDsE"
      },
      "execution_count": 37,
      "outputs": []
    },
    {
      "cell_type": "code",
      "source": [
        "def centrifugal_force(self, ball_mass):\n",
        "        return ball_mass * self.jar_radius * self.rotation_speed ** 2"
      ],
      "metadata": {
        "id": "BSnAUSKVIJ43"
      },
      "execution_count": 46,
      "outputs": []
    },
    {
      "cell_type": "code",
      "source": [
        "def impact_force(self, ball_mass, ball_velocity):\n",
        "        return ball_mass * ball_velocity ** 2 / self.ball_radius\n"
      ],
      "metadata": {
        "id": "p3pehTsPIOEy"
      },
      "execution_count": 39,
      "outputs": []
    },
    {
      "cell_type": "code",
      "source": [
        "def friction_force(self, ball_mass, ball_velocity, friction_coefficient):\n",
        "        return friction_coefficient * self.gravitational_force(ball_mass)"
      ],
      "metadata": {
        "id": "fOLgs9_5ISSm"
      },
      "execution_count": 40,
      "outputs": []
    },
    {
      "cell_type": "code",
      "source": [
        "def total_force(self, ball_mass, ball_velocity, friction_coefficient):\n",
        "        centrifugal = self.centrifugal_force(ball_mass)\n",
        "        gravitational = self.gravitational_force(ball_mass)\n",
        "        impact = self.impact_force(ball_mass, ball_velocity)\n",
        "        friction = self.friction_force(ball_mass, ball_velocity, friction_coefficient)\n",
        "        return centrifugal, gravitational, impact, friction"
      ],
      "metadata": {
        "id": "JqOwn1JgIWh0"
      },
      "execution_count": 42,
      "outputs": []
    },
    {
      "cell_type": "code",
      "source": [
        " class BallMillingForceAnalysis:\n",
        "    def __init__(self, jar_radius, ball_radius, rotation_speed):\n",
        "        self.jar_radius = jar_radius  # Radius of the milling jar (m)\n",
        "        self.ball_radius = ball_radius  # Radius of the milling balls (m)\n",
        "        self.rotation_speed = rotation_speed  # Rotation speed of the jar (rad/s)\n",
        "        self.gravity = 9.81  # Acceleration due to gravity (m/s^2)\n",
        "\n",
        "\n",
        "\n",
        "\n",
        "\n",
        " def plot_forces(self, ball_mass, ball_velocity, friction_coefficient):\n",
        "        centrifugal, gravitational, impact, friction = self.total_force(ball_mass, ball_velocity, friction_coefficient)\n",
        "        forces = [centrifugal, gravitational, impact, friction]\n",
        "        labels = ['Centrifugal', 'Gravitational', 'Impact', 'Friction']\n",
        "        fig, ax = plt.subplots()\n",
        "        ax.bar(labels, forces, color=['blue', 'orange', 'green', 'red'])\n",
        "        ax.set_ylabel('Force (N)')\n",
        "        ax.set_title('Forces in Ball Milling')\n",
        "        plt.show()\n"
      ],
      "metadata": {
        "id": "dKqqt1VmIZ0-"
      },
      "execution_count": 43,
      "outputs": []
    },
    {
      "cell_type": "code",
      "source": [
        "def main():\n",
        "    jar_radius = 0.1  # Example jar radius (m)\n",
        "    ball_radius = 0.02  # Example ball radius (m)\n",
        "    rotation_speed = 10  # Example rotation speed (rad/s)\n",
        "    ball_mass = 0.05  # Example ball mass (kg)\n",
        "    ball_velocity = 2  # Example ball velocity (m/s)\n",
        "    friction_coefficient = 0.2  # Example friction coefficient\n",
        "\n",
        "    analysis = BallMillingForceAnalysis(jar_radius, ball_radius, rotation_speed)\n",
        "    analysis.plot_forces(ball_mass, ball_velocity, friction_coefficient)\n"
      ],
      "metadata": {
        "id": "07QA8NuqIsDo"
      },
      "execution_count": 44,
      "outputs": []
    },
    {
      "cell_type": "code",
      "source": [
        " main()"
      ],
      "metadata": {
        "colab": {
          "base_uri": "https://localhost:8080/",
          "height": 228
        },
        "id": "6DkaJ_3NN2zy",
        "outputId": "9f6882f1-2b29-4f52-d753-c07fc545e42b"
      },
      "execution_count": 45,
      "outputs": [
        {
          "output_type": "error",
          "ename": "AttributeError",
          "evalue": "'BallMillingForceAnalysis' object has no attribute 'plot_forces'",
          "traceback": [
            "\u001b[0;31m---------------------------------------------------------------------------\u001b[0m",
            "\u001b[0;31mAttributeError\u001b[0m                            Traceback (most recent call last)",
            "\u001b[0;32m<ipython-input-45-263240bbee7e>\u001b[0m in \u001b[0;36m<cell line: 1>\u001b[0;34m()\u001b[0m\n\u001b[0;32m----> 1\u001b[0;31m \u001b[0mmain\u001b[0m\u001b[0;34m(\u001b[0m\u001b[0;34m)\u001b[0m\u001b[0;34m\u001b[0m\u001b[0;34m\u001b[0m\u001b[0m\n\u001b[0m",
            "\u001b[0;32m<ipython-input-44-5b7cd941ed44>\u001b[0m in \u001b[0;36mmain\u001b[0;34m()\u001b[0m\n\u001b[1;32m      8\u001b[0m \u001b[0;34m\u001b[0m\u001b[0m\n\u001b[1;32m      9\u001b[0m     \u001b[0manalysis\u001b[0m \u001b[0;34m=\u001b[0m \u001b[0mBallMillingForceAnalysis\u001b[0m\u001b[0;34m(\u001b[0m\u001b[0mjar_radius\u001b[0m\u001b[0;34m,\u001b[0m \u001b[0mball_radius\u001b[0m\u001b[0;34m,\u001b[0m \u001b[0mrotation_speed\u001b[0m\u001b[0;34m)\u001b[0m\u001b[0;34m\u001b[0m\u001b[0;34m\u001b[0m\u001b[0m\n\u001b[0;32m---> 10\u001b[0;31m     \u001b[0manalysis\u001b[0m\u001b[0;34m.\u001b[0m\u001b[0mplot_forces\u001b[0m\u001b[0;34m(\u001b[0m\u001b[0mball_mass\u001b[0m\u001b[0;34m,\u001b[0m \u001b[0mball_velocity\u001b[0m\u001b[0;34m,\u001b[0m \u001b[0mfriction_coefficient\u001b[0m\u001b[0;34m)\u001b[0m\u001b[0;34m\u001b[0m\u001b[0;34m\u001b[0m\u001b[0m\n\u001b[0m",
            "\u001b[0;31mAttributeError\u001b[0m: 'BallMillingForceAnalysis' object has no attribute 'plot_forces'"
          ]
        }
      ]
    }
  ]
}